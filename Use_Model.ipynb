{
 "cells": [
  {
   "cell_type": "code",
   "execution_count": 1,
   "id": "237f9290",
   "metadata": {},
   "outputs": [],
   "source": [
    "from tensorflow.keras.models import load_model\n",
    "\n",
    "model = load_model('IncV3_checkpoint_08Mar.h5')"
   ]
  },
  {
   "cell_type": "code",
   "execution_count": 2,
   "id": "f65d7358",
   "metadata": {},
   "outputs": [],
   "source": [
    "import numpy as np"
   ]
  },
  {
   "cell_type": "code",
   "execution_count": 3,
   "id": "f5168d83",
   "metadata": {},
   "outputs": [
    {
     "name": "stdout",
     "output_type": "stream",
     "text": [
      "(500, 100, 100, 3)\n"
     ]
    }
   ],
   "source": [
    "x_test = np.load('x_test_IncV3.npy')\n",
    "y_test_cat = np.load('y_test_cat_IncV3.npy')\n",
    "print(x_test.shape)"
   ]
  },
  {
   "cell_type": "code",
   "execution_count": 4,
   "id": "5ae615a4",
   "metadata": {},
   "outputs": [
    {
     "name": "stdout",
     "output_type": "stream",
     "text": [
      "16/16 [==============================] - 3s 181ms/step - loss: 0.5138 - accuracy: 0.8280\n"
     ]
    },
    {
     "data": {
      "text/plain": [
       "[0.5137882828712463, 0.828000009059906]"
      ]
     },
     "execution_count": 4,
     "metadata": {},
     "output_type": "execute_result"
    }
   ],
   "source": [
    "model.evaluate(x_test, y_test_cat)"
   ]
  },
  {
   "cell_type": "code",
   "execution_count": 5,
   "id": "5eebd9b8",
   "metadata": {},
   "outputs": [],
   "source": [
    "import cv2\n",
    "import matplotlib.pyplot as plt\n",
    "import os"
   ]
  },
  {
   "cell_type": "code",
   "execution_count": 38,
   "id": "7e54b1c1",
   "metadata": {
    "scrolled": false
   },
   "outputs": [
    {
     "name": "stdout",
     "output_type": "stream",
     "text": [
      "quickdraw/angel/4783852876726272.png\n",
      "Classification: angel\n"
     ]
    },
    {
     "data": {
      "image/png": "[encoded data removed]",
      "text/plain": [
       "<Figure size 432x288 with 1 Axes>"
      ]
     },
     "metadata": {
      "needs_background": "light"
     },
     "output_type": "display_data"
    }
   ],
   "source": [
    "path_orig = 'quickdraw/angel/'\n",
    "label = os.listdir(path_orig)\n",
    "labels = ['aircraft carrier', 'airplane', 'alarm clock', 'ambulance', 'angel']\n",
    "count = 0\n",
    "\n",
    "for i in range(len(label)-1):\n",
    "    path1 = path_orig+label[i]\n",
    "    img1 = cv2.imread(path1)\n",
    "    img1_r = cv2.resize(img1, (100,100))\n",
    "    img1_r = img1_r.reshape(1, 100, 100, 3)\n",
    "    pred1 = model.predict(img1_r)\n",
    "    cls1 = np.argmax(pred1, axis = -1)\n",
    "    if labels[cls1[0]] == 'angel':\n",
    "        count = count + 1\n",
    "        if count == 2:\n",
    "            print(path1)\n",
    "            plt.imshow(img1)\n",
    "            print('Classification:', labels[cls1[0]])\n",
    "            break"
   ]
  },
  {
   "cell_type": "code",
   "execution_count": null,
   "id": "e755f350",
   "metadata": {},
   "outputs": [],
   "source": []
  }
 ],
 "metadata": {
  "kernelspec": {
   "display_name": "Python 3 (ipykernel)",
   "language": "python",
   "name": "python3"
  },
  "language_info": {
   "codemirror_mode": {
    "name": "ipython",
    "version": 3
   },
   "file_extension": ".py",
   "mimetype": "text/x-python",
   "name": "python",
   "nbconvert_exporter": "python",
   "pygments_lexer": "ipython3",
   "version": "3.8.12"
  }
 },
 "nbformat": 4,
 "nbformat_minor": 5
}
